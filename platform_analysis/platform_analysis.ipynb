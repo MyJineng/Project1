{
 "cells": [
  {
   "cell_type": "code",
   "execution_count": 2,
   "metadata": {},
   "outputs": [],
   "source": [
    "# Import dependencies\n",
    "import numpy as np\n",
    "import pandas as pd\n",
    "import matplotlib.pyplot as plt"
   ]
  },
  {
   "cell_type": "markdown",
   "metadata": {},
   "source": [
    "# Data Preparation"
   ]
  },
  {
   "cell_type": "code",
   "execution_count": 3,
   "metadata": {},
   "outputs": [],
   "source": [
    "# Generate population DataFrame from csv file\n",
    "raw_pop_data = pd.read_csv(\"../country_data/pop.csv\", encoding='unicode_escape')\n",
    "\n",
    "# Remove unnecessary columns\n",
    "raw_pop_data = raw_pop_data[[\"Country (or dependency)\", \"Population\"]]\n",
    "\n",
    "# Remove invalid entries (NaN)\n",
    "pop_data = raw_pop_data.dropna()\n",
    "\n",
    "\n",
    "# Rename columns\n",
    "pop_data.columns = [\"Country\", \"Population\"]"
   ]
  },
  {
   "cell_type": "code",
   "execution_count": 4,
   "metadata": {},
   "outputs": [],
   "source": [
    "# Generate age DataFrame from csv file\n",
    "raw_age_data = pd.read_csv(\"../country_data/age.csv\")\n",
    "\n",
    "# Take the columns we want\n",
    "raw_age_data = raw_age_data[[\"country\", \"MedianAge2023\"]]\n",
    "\n",
    "# Remove invalid entries (NaN)\n",
    "age_data = raw_age_data.dropna()\n",
    "\n",
    "# Rename columns\n",
    "raw_age_data.columns = [\"Country\", \"Median Age\"]"
   ]
  },
  {
   "cell_type": "code",
   "execution_count": 5,
   "metadata": {},
   "outputs": [],
   "source": [
    "# Generate GDP DataFrame from csv file\n",
    "raw_gdp_data = pd.read_csv(\"../country_data/gdp.csv\")\n",
    "raw_gdp_data\n",
    "\n",
    "# Take the columns we want\n",
    "raw_gdp_data = raw_gdp_data[[\"country\", \"GdpPerCapitaIMF_USD_23\"]]\n",
    "\n",
    "# Remove invalid entries (NaN)\n",
    "gdp_data = raw_gdp_data.dropna()\n",
    "\n",
    "# Rename columns\n",
    "gdp_data.columns = [\"Country\", \"GDP Per Capita (USD)\"]"
   ]
  },
  {
   "cell_type": "code",
   "execution_count": 6,
   "metadata": {},
   "outputs": [],
   "source": [
    "# Generate Facebook DataFrame from csv file\n",
    "raw_fb_data = pd.read_csv(\"platform_data/facebook.csv\")\n",
    "\n",
    "# Take columns we want\n",
    "fb_data = raw_fb_data[[\"country\", \"FacebookUsersTotal2023\"]]\n",
    "\n",
    "# Rename columns\n",
    "fb_data.columns = [\"Country\", \"Facebook Users\"]"
   ]
  },
  {
   "cell_type": "code",
   "execution_count": 7,
   "metadata": {},
   "outputs": [],
   "source": [
    "# Generate TikTok DataFrame from csv file\n",
    "tt_data = pd.read_csv(\"platform_data/tiktok.csv\")\n",
    "\n",
    "# Rename columns\n",
    "tt_data.columns = [\"Country\", \"TikTok Users\"]\n"
   ]
  },
  {
   "cell_type": "code",
   "execution_count": 11,
   "metadata": {},
   "outputs": [
    {
     "name": "stderr",
     "output_type": "stream",
     "text": [
      "C:\\Users\\Moburu\\AppData\\Local\\Temp\\ipykernel_28292\\1115339961.py:11: SettingWithCopyWarning: \n",
      "A value is trying to be set on a copy of a slice from a DataFrame.\n",
      "Try using .loc[row_indexer,col_indexer] = value instead\n",
      "\n",
      "See the caveats in the documentation: https://pandas.pydata.org/pandas-docs/stable/user_guide/indexing.html#returning-a-view-versus-a-copy\n",
      "  yt_data[\"YouTube Users\"] = yt_data['YouTube Users']*1000000\n"
     ]
    },
    {
     "data": {
      "text/html": [
       "<div>\n",
       "<style scoped>\n",
       "    .dataframe tbody tr th:only-of-type {\n",
       "        vertical-align: middle;\n",
       "    }\n",
       "\n",
       "    .dataframe tbody tr th {\n",
       "        vertical-align: top;\n",
       "    }\n",
       "\n",
       "    .dataframe thead th {\n",
       "        text-align: right;\n",
       "    }\n",
       "</style>\n",
       "<table border=\"1\" class=\"dataframe\">\n",
       "  <thead>\n",
       "    <tr style=\"text-align: right;\">\n",
       "      <th></th>\n",
       "      <th>Country</th>\n",
       "      <th>YouTube Users</th>\n",
       "    </tr>\n",
       "  </thead>\n",
       "  <tbody>\n",
       "    <tr>\n",
       "      <th>0</th>\n",
       "      <td>India</td>\n",
       "      <td>467000000.0</td>\n",
       "    </tr>\n",
       "    <tr>\n",
       "      <th>1</th>\n",
       "      <td>United States</td>\n",
       "      <td>246000000.0</td>\n",
       "    </tr>\n",
       "    <tr>\n",
       "      <th>2</th>\n",
       "      <td>Indonesia</td>\n",
       "      <td>139000000.0</td>\n",
       "    </tr>\n",
       "    <tr>\n",
       "      <th>3</th>\n",
       "      <td>Pakistan</td>\n",
       "      <td>71700000.0</td>\n",
       "    </tr>\n",
       "    <tr>\n",
       "      <th>4</th>\n",
       "      <td>Nigeria</td>\n",
       "      <td>31600000.0</td>\n",
       "    </tr>\n",
       "    <tr>\n",
       "      <th>...</th>\n",
       "      <td>...</td>\n",
       "      <td>...</td>\n",
       "    </tr>\n",
       "    <tr>\n",
       "      <th>82</th>\n",
       "      <td>Slovenia</td>\n",
       "      <td>1640000.0</td>\n",
       "    </tr>\n",
       "    <tr>\n",
       "      <th>83</th>\n",
       "      <td>Latvia</td>\n",
       "      <td>1480000.0</td>\n",
       "    </tr>\n",
       "    <tr>\n",
       "      <th>84</th>\n",
       "      <td>Bahrain</td>\n",
       "      <td>1460000.0</td>\n",
       "    </tr>\n",
       "    <tr>\n",
       "      <th>85</th>\n",
       "      <td>Estonia</td>\n",
       "      <td>1070000.0</td>\n",
       "    </tr>\n",
       "    <tr>\n",
       "      <th>86</th>\n",
       "      <td>Iceland</td>\n",
       "      <td>290000.0</td>\n",
       "    </tr>\n",
       "  </tbody>\n",
       "</table>\n",
       "<p>87 rows × 2 columns</p>\n",
       "</div>"
      ],
      "text/plain": [
       "          Country  YouTube Users\n",
       "0           India    467000000.0\n",
       "1   United States    246000000.0\n",
       "2       Indonesia    139000000.0\n",
       "3        Pakistan     71700000.0\n",
       "4         Nigeria     31600000.0\n",
       "..            ...            ...\n",
       "82       Slovenia      1640000.0\n",
       "83         Latvia      1480000.0\n",
       "84        Bahrain      1460000.0\n",
       "85        Estonia      1070000.0\n",
       "86        Iceland       290000.0\n",
       "\n",
       "[87 rows x 2 columns]"
      ]
     },
     "execution_count": 11,
     "metadata": {},
     "output_type": "execute_result"
    }
   ],
   "source": [
    "# Generate YouTube DataFrame from csv file\n",
    "raw_yt_data = pd.read_csv(\"platform_data/youtube.csv\")\n",
    "\n",
    "# Take columns we want\n",
    "yt_data = raw_yt_data[[\"country\", \"YouTubeUsersJuly2023\"]]\n",
    "\n",
    "# Rename columns\n",
    "yt_data.columns = [\"Country\", \"YouTube Users\"]\n",
    "\n",
    "# Since users is measured in units of millions, we need to convert\n",
    "yt_data[\"YouTube Users\"] = yt_data['YouTube Users']*1000000"
   ]
  }
 ],
 "metadata": {
  "kernelspec": {
   "display_name": "base",
   "language": "python",
   "name": "python3"
  },
  "language_info": {
   "codemirror_mode": {
    "name": "ipython",
    "version": 3
   },
   "file_extension": ".py",
   "mimetype": "text/x-python",
   "name": "python",
   "nbconvert_exporter": "python",
   "pygments_lexer": "ipython3",
   "version": "3.11.7"
  }
 },
 "nbformat": 4,
 "nbformat_minor": 2
}

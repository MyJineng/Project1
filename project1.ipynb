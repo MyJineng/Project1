{
 "cells": [
  {
   "cell_type": "code",
   "execution_count": null,
   "id": "7b3fa82d",
   "metadata": {},
   "outputs": [],
   "source": [
    "import pandas as pd\n",
    "import matplotlib.pyplot as plt\n",
    "\n",
    "# Load data\n",
    "social_media_data = pd.read_csv('social-media-users-by-country-2024.csv')\n",
    "tiktok_data = pd.read_csv('platform_analysis/platform_data/tiktok.csv')\n",
    "youtube_data = pd.read_csv('platform_analysis/platform_data/youtube.csv')\n",
    "facebook_data = pd.read_csv('platform_analysis/platform_data/facebook.csv')\n",
    "internet_data = pd.read_csv('path_to_your_internet_usage_data.csv')\n",
    "\n",
    "# Check for missing values and clean if necessary\n",
    "print(social_media_data.isnull().sum())\n",
    "social_media_data.dropna(inplace=True)\n",
    "\n",
    "\n",
    "internet_data.dropna(inplace=True)\n",
    "\n",
    "# Merge social media data with internet usage data\n",
    "merged_data = pd.merge(social_media_data, internet_data, on='Year', how='inner')\n",
    "\n",
    "# Calculate Year-to-Year Changes for both datasets\n",
    "social_media_data['SocialMediaChange'] = social_media_data['Users'] - social_media_data['Users'].shift(1)\n",
    "internet_data['InternetChange'] = internet_data['Users'] - internet_data['Users'].shift(1)\n",
    "\n",
    "# Plotting\n",
    "plt.figure(figsize=(12, 6))\n",
    "plt.plot(merged_data['Year'], merged_data['SocialMediaUsers'], label='Social Media Users')\n",
    "plt.plot(merged_data['Year'], merged_data['InternetUsers'], label='Internet Users')\n",
    "plt.xlabel('Year')\n",
    "plt.ylabel('Number of Users')\n",
    "plt.title('Social Media vs. Internet Usage Over Time')\n",
    "plt.legend()\n",
    "plt.show()"
   ]
  }
 ],
 "metadata": {
  "kernelspec": {
   "display_name": "Python 3 (ipykernel)",
   "language": "python",
   "name": "python3"
  },
  "language_info": {
   "codemirror_mode": {
    "name": "ipython",
    "version": 3
   },
   "file_extension": ".py",
   "mimetype": "text/x-python",
   "name": "python",
   "nbconvert_exporter": "python",
   "pygments_lexer": "ipython3",
   "version": "3.11.5"
  }
 },
 "nbformat": 4,
 "nbformat_minor": 5
}
